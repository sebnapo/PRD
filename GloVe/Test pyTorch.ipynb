{
 "cells": [
  {
   "cell_type": "code",
   "execution_count": 1,
   "metadata": {},
   "outputs": [
    {
     "ename": "ModuleNotFoundError",
     "evalue": "No module named 'torch'",
     "output_type": "error",
     "traceback": [
      "\u001b[1;31m---------------------------------------------------------------------------\u001b[0m",
      "\u001b[1;31mModuleNotFoundError\u001b[0m                       Traceback (most recent call last)",
      "\u001b[1;32m<ipython-input-1-f0e24bae28a7>\u001b[0m in \u001b[0;36m<module>\u001b[1;34m\u001b[0m\n\u001b[0;32m      6\u001b[0m \u001b[1;33m\u001b[0m\u001b[0m\n\u001b[0;32m      7\u001b[0m \u001b[1;32mimport\u001b[0m \u001b[0mnumpy\u001b[0m \u001b[1;32mas\u001b[0m \u001b[0mnp\u001b[0m\u001b[1;33m\u001b[0m\u001b[1;33m\u001b[0m\u001b[0m\n\u001b[1;32m----> 8\u001b[1;33m \u001b[1;32mimport\u001b[0m \u001b[0mtorch\u001b[0m\u001b[1;33m\u001b[0m\u001b[1;33m\u001b[0m\u001b[0m\n\u001b[0m\u001b[0;32m      9\u001b[0m \u001b[1;32mfrom\u001b[0m \u001b[0msklearn\u001b[0m\u001b[1;33m.\u001b[0m\u001b[0mdatasets\u001b[0m \u001b[1;32mimport\u001b[0m \u001b[0mfetch_20newsgroups\u001b[0m\u001b[1;33m\u001b[0m\u001b[1;33m\u001b[0m\u001b[0m\n\u001b[0;32m     10\u001b[0m \u001b[1;32mfrom\u001b[0m \u001b[0mtorch\u001b[0m\u001b[1;33m.\u001b[0m\u001b[0mautograd\u001b[0m \u001b[1;32mimport\u001b[0m \u001b[0mVariable\u001b[0m\u001b[1;33m\u001b[0m\u001b[1;33m\u001b[0m\u001b[0m\n",
      "\u001b[1;31mModuleNotFoundError\u001b[0m: No module named 'torch'"
     ]
    }
   ],
   "source": [
    "from collections import Counter, defaultdict\n",
    "import numpy as np\n",
    "import matplotlib.pyplot as plt\n",
    "import torch\n",
    "import torch.nn as nn\n",
    "import torch.optim as optim\n",
    "import torch.nn.functional as F\n",
    "from sklearn.manifold import TSNE\n",
    "\n",
    "\n",
    "class GloveDataset:\n",
    "    \n",
    "    def __init__(self, text, n_words=200000, window_size=5):\n",
    "        self._window_size = window_size\n",
    "        self._tokens = text.split(\" \")[:n_words]\n",
    "        word_counter = Counter()\n",
    "        word_counter.update(self._tokens)\n",
    "        self._word2id = {w:i for i, (w,_) in enumerate(word_counter.most_common())}\n",
    "        self._id2word = {i:w for w, i in self._word2id.items()}\n",
    "        self._vocab_len = len(self._word2id)\n",
    "        \n",
    "        self._id_tokens = [self._word2id[w] for w in self._tokens]\n",
    "        \n",
    "        self._create_coocurrence_matrix()\n",
    "        \n",
    "        print(\"# of words: {}\".format(len(self._tokens)))\n",
    "        print(\"Vocabulary length: {}\".format(self._vocab_len))\n",
    "        \n",
    "    def _create_coocurrence_matrix(self):\n",
    "        cooc_mat = defaultdict(Counter)\n",
    "        for i, w in enumerate(self._id_tokens):\n",
    "            start_i = max(i - self._window_size, 0)\n",
    "            end_i = min(i + self._window_size + 1, len(self._id_tokens))\n",
    "            for j in range(start_i, end_i):\n",
    "                if i != j:\n",
    "                    c = self._id_tokens[j]\n",
    "                    cooc_mat[w][c] += 1 / abs(j-i)\n",
    "                    \n",
    "        self._i_idx = list()\n",
    "        self._j_idx = list()\n",
    "        self._xij = list()\n",
    "        \n",
    "        #Create indexes and x values tensors\n",
    "        for w, cnt in cooc_mat.items():\n",
    "            for c, v in cnt.items():\n",
    "                self._i_idx.append(w)\n",
    "                self._j_idx.append(c)\n",
    "                self._xij.append(v)\n",
    "                \n",
    "        self._i_idx = torch.LongTensor(self._i_idx).cuda()\n",
    "        self._j_idx = torch.LongTensor(self._j_idx).cuda()\n",
    "        self._xij = torch.FloatTensor(self._xij).cuda()\n",
    "    \n",
    "    \n",
    "    def get_batches(self, batch_size):\n",
    "        #Generate random idx\n",
    "        rand_ids = torch.LongTensor(np.random.choice(len(self._xij), len(self._xij), replace=False))\n",
    "        \n",
    "        for p in range(0, len(rand_ids), batch_size):\n",
    "            batch_ids = rand_ids[p:p+batch_size]\n",
    "            yield self._xij[batch_ids], self._i_idx[batch_ids], self._j_idx[batch_ids]\n",
    "dataset = GloveDataset(open(\"text8\").read(), 10000000)"
   ]
  },
  {
   "cell_type": "code",
   "execution_count": null,
   "metadata": {},
   "outputs": [],
   "source": []
  }
 ],
 "metadata": {
  "kernelspec": {
   "display_name": "Python 3",
   "language": "python",
   "name": "python3"
  },
  "language_info": {
   "codemirror_mode": {
    "name": "ipython",
    "version": 3
   },
   "file_extension": ".py",
   "mimetype": "text/x-python",
   "name": "python",
   "nbconvert_exporter": "python",
   "pygments_lexer": "ipython3",
   "version": "3.7.3"
  }
 },
 "nbformat": 4,
 "nbformat_minor": 2
}
