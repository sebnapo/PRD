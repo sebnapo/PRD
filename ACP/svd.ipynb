{
 "cells": [
  {
   "cell_type": "code",
   "execution_count": 44,
   "metadata": {},
   "outputs": [
    {
     "name": "stdout",
     "output_type": "stream",
     "text": [
      "[0.19637914 0.22730382 0.14257821 0.10816165 0.1067626 ]\n",
      "0.7811854292420928\n",
      "[114.83570041 111.27259697  89.42897185  78.15284796  75.7659156 ]\n"
     ]
    }
   ],
   "source": [
    "import pandas\n",
    "\n",
    "X = pandas.read_csv(\"data.csv\",header=0,index_col=0).transpose()\n",
    "n = X.shape[0]\n",
    "#nombre de variables\n",
    "p = X.shape[1]\n",
    "from sklearn.decomposition import TruncatedSVD\n",
    "from sklearn.random_projection import sparse_random_matrix\n",
    "\n",
    "svd = TruncatedSVD(n_components=5)\n",
    "svd.fit(X)  \n",
    "print(svd.explained_variance_ratio_)  \n",
    "print(svd.explained_variance_ratio_.sum())  \n",
    "print(svd.singular_values_)  \n",
    "\n",
    "\n",
    "\n",
    "\n",
    "\n",
    "\n",
    "\n",
    "\n"
   ]
  },
  {
   "cell_type": "code",
   "execution_count": 48,
   "metadata": {},
   "outputs": [
    {
     "name": "stdout",
     "output_type": "stream",
     "text": [
      "(4573, 381)\n",
      "[0.07528617 0.05072318 0.0443536  0.03566536 0.03200152 0.02795087\n",
      " 0.02601664 0.02317648 0.02263896 0.01908806 0.01700429 0.01543454\n",
      " 0.01512222 0.01437807 0.01343762 0.0131706  0.01266168 0.01181577\n",
      " 0.01150436 0.01107291 0.01034379 0.00972574 0.00948563 0.00880472\n",
      " 0.00866199 0.00798851 0.0076854  0.00758626 0.00752461 0.00741343\n",
      " 0.00716521 0.00695973 0.00673806 0.00655207 0.00635383 0.00626886\n",
      " 0.00589025 0.00561542 0.00548274 0.00542832 0.00515938 0.00502925\n",
      " 0.00489047 0.00472316 0.00466421 0.00456987 0.00449565 0.00445842\n",
      " 0.00438853 0.00429636]\n",
      "0.6868527537690239\n",
      "[52.52174165 30.23300405 28.14402926 25.25252345 23.90904301 22.43902381\n",
      " 21.58527326 20.63778099 20.10752069 18.48826699 17.43100756 16.61267605\n",
      " 16.45277116 16.03945014 15.49338399 15.3371714  15.03773467 14.52752119\n",
      " 14.33701706 14.09296995 13.59958798 13.19572059 13.04653466 12.54774016\n",
      " 12.45243953 11.99954591 11.71564551 11.64068118 11.59197674 11.50941019\n",
      " 11.32051834 11.15178271 10.97905809 10.81693023 10.65438378 10.5810803\n",
      " 10.25623417 10.02113348  9.8953976   9.84761396  9.60024917  9.48024426\n",
      "  9.34558896  9.19271945  9.12650675  9.03470598  8.96103402  8.92290502\n",
      "  8.85320134  8.76016549]\n"
     ]
    }
   ],
   "source": [
    "import pandas\n",
    "\n",
    "X = pandas.read_csv(\"datagoodscents.csv\",header=0,index_col=0)\n",
    "\n",
    "#dimension\n",
    "print(X.shape) # (70, 54)\n",
    "#nombre d'observations\n",
    "n = X.shape[0]\n",
    "#nombre de variables\n",
    "p = X.shape[1]\n",
    "\n",
    "import sklearn\n",
    "\n",
    "#classe pour standardisation\n",
    "from sklearn.preprocessing import StandardScaler\n",
    "#instanciation\n",
    "sc = StandardScaler()\n",
    "#transforprint(svd.singular_values_)  \n",
    "\n",
    "from sklearn.decomposition import TruncatedSVD\n",
    "from sklearn.random_projection import sparse_random_matrix\n",
    "\n",
    "svd = TruncatedSVD(n_components=50)\n",
    "svd.fit(X)  \n",
    "print(svd.explained_variance_ratio_)  \n",
    "print(svd.explained_variance_ratio_.sum())  \n",
    "print(svd.singular_values_)  \n"
   ]
  },
  {
   "cell_type": "code",
   "execution_count": null,
   "metadata": {},
   "outputs": [],
   "source": []
  },
  {
   "cell_type": "code",
   "execution_count": null,
   "metadata": {},
   "outputs": [],
   "source": []
  }
 ],
 "metadata": {
  "kernelspec": {
   "display_name": "Python 3",
   "language": "python",
   "name": "python3"
  },
  "language_info": {
   "codemirror_mode": {
    "name": "ipython",
    "version": 3
   },
   "file_extension": ".py",
   "mimetype": "text/x-python",
   "name": "python",
   "nbconvert_exporter": "python",
   "pygments_lexer": "ipython3",
   "version": "3.5.2"
  }
 },
 "nbformat": 4,
 "nbformat_minor": 2
}
